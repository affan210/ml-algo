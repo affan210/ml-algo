{
 "cells": [
  {
   "cell_type": "code",
   "execution_count": 12,
   "metadata": {},
   "outputs": [],
   "source": [
    "import numpy as np"
   ]
  },
  {
   "cell_type": "code",
   "execution_count": 14,
   "metadata": {},
   "outputs": [],
   "source": [
    "def gradient_descent(X, y, theta, learning_rate, num_iterations, batch_size=None, descent_type='batch'):\n",
    "    m = len(y)\n",
    "    \n",
    "    if descent_type == 'mini_batch' and (batch_size is None or batch_size > m or batch_size < 1):\n",
    "        raise ValueError(\"Please provide a valid batch_size for Mini-batch Gradient Descent.\")\n",
    "    \n",
    "    for iteration in range(num_iterations):\n",
    "        if descent_type == 'batch':\n",
    "            # Batch Gradient Descent (Full dataset at each iteration)\n",
    "            gradient = (1/m) * np.dot(X.T, np.dot(X, theta) - y)\n",
    "        elif descent_type == 'sgd':\n",
    "            # Stochastic Gradient Descent (Single random example at each iteration)\n",
    "            random_index = np.random.randint(m)\n",
    "            xi = X[random_index, :].reshape(1, -1)\n",
    "            yi = y[random_index]\n",
    "            gradient = 2 * np.dot(xi.T, np.dot(xi, theta) - yi)\n",
    "        elif descent_type == 'mini_batch':\n",
    "            # Mini-batch Gradient Descent (Random mini-batch at each iteration)\n",
    "            indices = np.random.choice(m, batch_size)\n",
    "            X_mini_batch = X[indices, :]\n",
    "            y_mini_batch = y[indices]\n",
    "            gradient = (2/batch_size) * np.dot(X_mini_batch.T, np.dot(X_mini_batch, theta) - y_mini_batch)\n",
    "        else:\n",
    "            raise ValueError(\"Invalid descent_type. Choose 'batch', 'sgd', or 'mini_batch'.\")\n",
    "        \n",
    "        # Update theta\n",
    "        theta -= learning_rate * gradient\n",
    "    \n",
    "    return theta"
   ]
  },
  {
   "cell_type": "code",
   "execution_count": 15,
   "metadata": {},
   "outputs": [],
   "source": [
    "# Generate sample data\n",
    "np.random.seed(0)\n",
    "X = np.random.rand(100, 2)\n",
    "y = 2 * X[:, 0] + 3 * X[:, 1] + 1\n",
    "\n",
    "# Initialize parameters\n",
    "theta = np.zeros(2)\n",
    "\n",
    "# Run Batch Gradient Descent\n",
    "batch_theta = gradient_descent(X, y, theta.copy(), learning_rate=0.01, num_iterations=1000, descent_type='batch')\n",
    "\n",
    "# Run Stochastic Gradient Descent\n",
    "stochastic_theta = gradient_descent(X, y, theta.copy(), learning_rate=0.01, num_iterations=1000, descent_type='stochastic')\n",
    "\n",
    "# Run Mini-batch Gradient Descent\n",
    "mini_batch_theta = gradient_descent(X, y, theta.copy(), learning_rate=0.01, num_iterations=1000, batch_size=1, descent_type='mini_batch')\n"
   ]
  },
  {
   "cell_type": "code",
   "execution_count": null,
   "metadata": {},
   "outputs": [],
   "source": []
  }
 ],
 "metadata": {
  "kernelspec": {
   "display_name": "ml-algo",
   "language": "python",
   "name": "python3"
  },
  "language_info": {
   "codemirror_mode": {
    "name": "ipython",
    "version": 3
   },
   "file_extension": ".py",
   "mimetype": "text/x-python",
   "name": "python",
   "nbconvert_exporter": "python",
   "pygments_lexer": "ipython3",
   "version": "3.8.1"
  },
  "orig_nbformat": 4
 },
 "nbformat": 4,
 "nbformat_minor": 2
}
